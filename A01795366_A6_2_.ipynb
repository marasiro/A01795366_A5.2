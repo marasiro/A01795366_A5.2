{
  "nbformat": 4,
  "nbformat_minor": 0,
  "metadata": {
    "colab": {
      "provenance": [],
      "authorship_tag": "ABX9TyPgO6XhsT5SoZump9o2zOC7",
      "include_colab_link": true
    },
    "kernelspec": {
      "name": "python3",
      "display_name": "Python 3"
    },
    "language_info": {
      "name": "python"
    }
  },
  "cells": [
    {
      "cell_type": "markdown",
      "metadata": {
        "id": "view-in-github",
        "colab_type": "text"
      },
      "source": [
        "<a href=\"https://colab.research.google.com/github/marasiro/A01795366_A5.2/blob/main/A01795366_A6_2_.ipynb\" target=\"_parent\"><img src=\"https://colab.research.google.com/assets/colab-badge.svg\" alt=\"Open In Colab\"/></a>"
      ]
    },
    {
      "cell_type": "code",
      "execution_count": 1,
      "metadata": {
        "colab": {
          "base_uri": "https://localhost:8080/"
        },
        "id": "99BoHJffJflT",
        "outputId": "49a693f9-742b-4749-d61b-4c6bc6505ea7"
      },
      "outputs": [
        {
          "output_type": "stream",
          "name": "stdout",
          "text": [
            "Collecting flake8\n",
            "  Downloading flake8-7.1.1-py2.py3-none-any.whl.metadata (3.8 kB)\n",
            "Collecting pylint\n",
            "  Downloading pylint-3.3.4-py3-none-any.whl.metadata (12 kB)\n",
            "Collecting mccabe<0.8.0,>=0.7.0 (from flake8)\n",
            "  Downloading mccabe-0.7.0-py2.py3-none-any.whl.metadata (5.0 kB)\n",
            "Collecting pycodestyle<2.13.0,>=2.12.0 (from flake8)\n",
            "  Downloading pycodestyle-2.12.1-py2.py3-none-any.whl.metadata (4.5 kB)\n",
            "Collecting pyflakes<3.3.0,>=3.2.0 (from flake8)\n",
            "  Downloading pyflakes-3.2.0-py2.py3-none-any.whl.metadata (3.5 kB)\n",
            "Collecting dill>=0.3.6 (from pylint)\n",
            "  Downloading dill-0.3.9-py3-none-any.whl.metadata (10 kB)\n",
            "Requirement already satisfied: platformdirs>=2.2.0 in /usr/local/lib/python3.11/dist-packages (from pylint) (4.3.6)\n",
            "Collecting astroid<=3.4.0-dev0,>=3.3.8 (from pylint)\n",
            "  Downloading astroid-3.3.8-py3-none-any.whl.metadata (4.5 kB)\n",
            "Collecting isort!=5.13.0,<7,>=4.2.5 (from pylint)\n",
            "  Downloading isort-6.0.0-py3-none-any.whl.metadata (11 kB)\n",
            "Collecting tomlkit>=0.10.1 (from pylint)\n",
            "  Downloading tomlkit-0.13.2-py3-none-any.whl.metadata (2.7 kB)\n",
            "Downloading flake8-7.1.1-py2.py3-none-any.whl (57 kB)\n",
            "\u001b[2K   \u001b[90m━━━━━━━━━━━━━━━━━━━━━━━━━━━━━━━━━━━━━━━━\u001b[0m \u001b[32m57.7/57.7 kB\u001b[0m \u001b[31m3.4 MB/s\u001b[0m eta \u001b[36m0:00:00\u001b[0m\n",
            "\u001b[?25hDownloading pylint-3.3.4-py3-none-any.whl (522 kB)\n",
            "\u001b[2K   \u001b[90m━━━━━━━━━━━━━━━━━━━━━━━━━━━━━━━━━━━━━━━━\u001b[0m \u001b[32m522.3/522.3 kB\u001b[0m \u001b[31m11.0 MB/s\u001b[0m eta \u001b[36m0:00:00\u001b[0m\n",
            "\u001b[?25hDownloading astroid-3.3.8-py3-none-any.whl (275 kB)\n",
            "\u001b[2K   \u001b[90m━━━━━━━━━━━━━━━━━━━━━━━━━━━━━━━━━━━━━━━━\u001b[0m \u001b[32m275.2/275.2 kB\u001b[0m \u001b[31m17.7 MB/s\u001b[0m eta \u001b[36m0:00:00\u001b[0m\n",
            "\u001b[?25hDownloading dill-0.3.9-py3-none-any.whl (119 kB)\n",
            "\u001b[2K   \u001b[90m━━━━━━━━━━━━━━━━━━━━━━━━━━━━━━━━━━━━━━━━\u001b[0m \u001b[32m119.4/119.4 kB\u001b[0m \u001b[31m8.8 MB/s\u001b[0m eta \u001b[36m0:00:00\u001b[0m\n",
            "\u001b[?25hDownloading isort-6.0.0-py3-none-any.whl (94 kB)\n",
            "\u001b[2K   \u001b[90m━━━━━━━━━━━━━━━━━━━━━━━━━━━━━━━━━━━━━━━━\u001b[0m \u001b[32m94.1/94.1 kB\u001b[0m \u001b[31m5.9 MB/s\u001b[0m eta \u001b[36m0:00:00\u001b[0m\n",
            "\u001b[?25hDownloading mccabe-0.7.0-py2.py3-none-any.whl (7.3 kB)\n",
            "Downloading pycodestyle-2.12.1-py2.py3-none-any.whl (31 kB)\n",
            "Downloading pyflakes-3.2.0-py2.py3-none-any.whl (62 kB)\n",
            "\u001b[2K   \u001b[90m━━━━━━━━━━━━━━━━━━━━━━━━━━━━━━━━━━━━━━━━\u001b[0m \u001b[32m62.7/62.7 kB\u001b[0m \u001b[31m4.2 MB/s\u001b[0m eta \u001b[36m0:00:00\u001b[0m\n",
            "\u001b[?25hDownloading tomlkit-0.13.2-py3-none-any.whl (37 kB)\n",
            "Installing collected packages: tomlkit, pyflakes, pycodestyle, mccabe, isort, dill, astroid, pylint, flake8\n",
            "Successfully installed astroid-3.3.8 dill-0.3.9 flake8-7.1.1 isort-6.0.0 mccabe-0.7.0 pycodestyle-2.12.1 pyflakes-3.2.0 pylint-3.3.4 tomlkit-0.13.2\n"
          ]
        }
      ],
      "source": [
        "pip install flake8 pylint\n"
      ]
    },
    {
      "cell_type": "code",
      "source": [
        "import json\n",
        "import os\n",
        "\n",
        "class Hotel:\n",
        "    def __init__(self, hotel_id, name, location, rooms_available):\n",
        "        self.hotel_id = hotel_id\n",
        "        self.name = name\n",
        "        self.location = location\n",
        "        self.rooms_available = rooms_available\n",
        "\n",
        "    def to_dict(self):\n",
        "        return {\n",
        "            \"hotel_id\": self.hotel_id,\n",
        "            \"name\": self.name,\n",
        "            \"location\": self.location,\n",
        "            \"rooms_available\": self.rooms_available\n",
        "        }\n",
        "\n",
        "    @staticmethod\n",
        "    def create_hotel(hotel_id, name, location, rooms_available, filename=\"hotels.json\"):\n",
        "        hotels = Hotel.load_from_file(filename)\n",
        "        hotels.append(Hotel(hotel_id, name, location, rooms_available))\n",
        "        Hotel.save_to_file(hotels, filename)\n",
        "\n",
        "    @staticmethod\n",
        "    def delete_hotel(hotel_id, filename=\"hotels.json\"):\n",
        "        hotels = [hotel for hotel in Hotel.load_from_file(filename) if hotel.hotel_id != hotel_id]\n",
        "        Hotel.save_to_file(hotels, filename)\n",
        "\n",
        "    @staticmethod\n",
        "    def modify_hotel(hotel_id, name, location, rooms_available, filename=\"hotels.json\"):\n",
        "        hotels = Hotel.load_from_file(filename)\n",
        "        for hotel in hotels:\n",
        "            if hotel.hotel_id == hotel_id:\n",
        "                hotel.name = name\n",
        "                hotel.location = location\n",
        "                hotel.rooms_available = rooms_available\n",
        "        Hotel.save_to_file(hotels, filename)\n",
        "\n",
        "    @staticmethod\n",
        "    def save_to_file(hotels, filename=\"hotels.json\"):\n",
        "        with open(filename, \"w\") as file:\n",
        "            json.dump([hotel.to_dict() for hotel in hotels], file)\n",
        "\n",
        "    @staticmethod\n",
        "    def load_from_file(filename=\"hotels.json\"):\n",
        "        if not os.path.exists(filename):\n",
        "            return []\n",
        "        try:\n",
        "            with open(filename, \"r\") as file:\n",
        "                return [Hotel(**data) for data in json.load(file)]\n",
        "        except (json.JSONDecodeError, TypeError):\n",
        "            return []\n",
        "\n",
        "\n",
        "class Customer:\n",
        "    def __init__(self, customer_id, name, email):\n",
        "        self.customer_id = customer_id\n",
        "        self.name = name\n",
        "        self.email = email\n",
        "\n",
        "    def to_dict(self):\n",
        "        return {\n",
        "            \"customer_id\": self.customer_id,\n",
        "            \"name\": self.name,\n",
        "            \"email\": self.email\n",
        "        }\n",
        "\n",
        "    @staticmethod\n",
        "    def create_customer(customer_id, name, email, filename=\"customers.json\"):\n",
        "        customers = Customer.load_from_file(filename)\n",
        "        customers.append(Customer(customer_id, name, email))\n",
        "        Customer.save_to_file(customers, filename)\n",
        "\n",
        "    @staticmethod\n",
        "    def delete_customer(customer_id, filename=\"customers.json\"):\n",
        "        customers = [c for c in Customer.load_from_file(filename) if c.customer_id != customer_id]\n",
        "        Customer.save_to_file(customers, filename)\n",
        "\n",
        "    @staticmethod\n",
        "    def save_to_file(customers, filename=\"customers.json\"):\n",
        "        with open(filename, \"w\") as file:\n",
        "            json.dump([customer.to_dict() for customer in customers], file)\n",
        "\n",
        "    @staticmethod\n",
        "    def load_from_file(filename=\"customers.json\"):\n",
        "        if not os.path.exists(filename):\n",
        "            return []\n",
        "        try:\n",
        "            with open(filename, \"r\") as file:\n",
        "                return [Customer(**data) for data in json.load(file)]\n",
        "        except (json.JSONDecodeError, TypeError):\n",
        "            return []\n",
        "\n",
        "\n",
        "class Reservation:\n",
        "    def __init__(self, reservation_id, customer_id, hotel_id):\n",
        "        self.reservation_id = reservation_id\n",
        "        self.customer_id = customer_id\n",
        "        self.hotel_id = hotel_id\n",
        "\n",
        "    def to_dict(self):\n",
        "        return {\n",
        "            \"reservation_id\": self.reservation_id,\n",
        "            \"customer_id\": self.customer_id,\n",
        "            \"hotel_id\": self.hotel_id\n",
        "        }\n",
        "\n",
        "    @staticmethod\n",
        "    def create_reservation(reservation_id, customer_id, hotel_id, filename=\"reservations.json\"):\n",
        "        reservations = Reservation.load_from_file(filename)\n",
        "        reservations.append(Reservation(reservation_id, customer_id, hotel_id))\n",
        "        Reservation.save_to_file(reservations, filename)\n",
        "\n",
        "    @staticmethod\n",
        "    def cancel_reservation(reservation_id, filename=\"reservations.json\"):\n",
        "        reservations = [r for r in Reservation.load_from_file(filename) if r.reservation_id != reservation_id]\n",
        "        Reservation.save_to_file(reservations, filename)\n",
        "\n",
        "    @staticmethod\n",
        "    def save_to_file(reservations, filename=\"reservations.json\"):\n",
        "        with open(filename, \"w\") as file:\n",
        "            json.dump([reservation.to_dict() for reservation in reservations], file)\n",
        "\n",
        "    @staticmethod\n",
        "    def load_from_file(filename=\"reservations.json\"):\n",
        "        if not os.path.exists(filename):\n",
        "            return []\n",
        "        try:\n",
        "            with open(filename, \"r\") as file:\n",
        "                return [Reservation(**data) for data in json.load(file)]\n",
        "        except (json.JSONDecodeError, TypeError):\n",
        "            return []\n"
      ],
      "metadata": {
        "id": "2sogyYKHj4qY"
      },
      "execution_count": 4,
      "outputs": []
    },
    {
      "cell_type": "code",
      "source": [
        "import unittest\n",
        "\n",
        "class TestHotel(unittest.TestCase):\n",
        "    def setUp(self):\n",
        "        self.test_file = \"test_hotels.json\"\n",
        "        Hotel.save_to_file([], self.test_file)\n",
        "\n",
        "    def test_create_hotel(self):\n",
        "        Hotel.create_hotel(1, \"Test Hotel\", \"Test City\", 10, self.test_file)\n",
        "        hotels = Hotel.load_from_file(self.test_file)\n",
        "        self.assertEqual(len(hotels), 1)\n",
        "        self.assertEqual(hotels[0].name, \"Test Hotel\")\n",
        "\n",
        "    def test_delete_hotel(self):\n",
        "        Hotel.create_hotel(1, \"Test Hotel\", \"Test City\", 10, self.test_file)\n",
        "        Hotel.delete_hotel(1, self.test_file)\n",
        "        hotels = Hotel.load_from_file(self.test_file)\n",
        "        self.assertEqual(len(hotels), 0)\n",
        "\n",
        "    def test_modify_hotel(self):\n",
        "        Hotel.create_hotel(1, \"Test Hotel\", \"Test City\", 10, self.test_file)\n",
        "        Hotel.modify_hotel(1, \"Updated Hotel\", \"New City\", 5, self.test_file)\n",
        "        hotels = Hotel.load_from_file(self.test_file)\n",
        "        self.assertEqual(hotels[0].name, \"Updated Hotel\")\n",
        "        self.assertEqual(hotels[0].location, \"New City\")\n",
        "\n",
        "    def tearDown(self):\n",
        "        if os.path.exists(self.test_file):\n",
        "            os.remove(self.test_file)\n"
      ],
      "metadata": {
        "id": "O08MzveEl2sy"
      },
      "execution_count": 8,
      "outputs": []
    },
    {
      "cell_type": "code",
      "source": [
        "unittest.main(argv=[''], verbosity=2, exit=False)\n"
      ],
      "metadata": {
        "colab": {
          "base_uri": "https://localhost:8080/"
        },
        "id": "omHdUCh1l55j",
        "outputId": "8968a67c-bda3-46fd-d02b-02c0d717ae6e"
      },
      "execution_count": 9,
      "outputs": [
        {
          "output_type": "stream",
          "name": "stderr",
          "text": [
            "test_create_hotel (__main__.TestHotel.test_create_hotel) ... ok\n",
            "test_delete_hotel (__main__.TestHotel.test_delete_hotel) ... ok\n",
            "test_modify_hotel (__main__.TestHotel.test_modify_hotel) ... ok\n",
            "\n",
            "----------------------------------------------------------------------\n",
            "Ran 3 tests in 0.016s\n",
            "\n",
            "OK\n"
          ]
        },
        {
          "output_type": "execute_result",
          "data": {
            "text/plain": [
              "<unittest.main.TestProgram at 0x7bedc43d2a50>"
            ]
          },
          "metadata": {},
          "execution_count": 9
        }
      ]
    },
    {
      "cell_type": "code",
      "source": [
        "!flake8 --max-line-length=100\n"
      ],
      "metadata": {
        "id": "QCXhjmjfmKYQ"
      },
      "execution_count": 10,
      "outputs": []
    }
  ]
}